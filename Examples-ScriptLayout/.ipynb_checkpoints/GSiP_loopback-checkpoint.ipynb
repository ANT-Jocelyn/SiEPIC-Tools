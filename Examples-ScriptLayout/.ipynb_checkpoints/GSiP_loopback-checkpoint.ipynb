{
 "cells": [
  {
   "cell_type": "code",
   "execution_count": 1,
   "metadata": {},
   "outputs": [
    {
     "name": "stdout",
     "output_type": "stream",
     "text": [
      "C:\\Users\\root\\Documents\\GitHub\\SiEPIC-Tools\\klayout_dot_config\\tech\\GSiP\\klayout_Layers_GSiP.lyp\n",
      "Initializing 'GSiP' Library.\n",
      "done importing libraries\n"
     ]
    }
   ],
   "source": [
    "#import pya declarations\n",
    "import sys\n",
    "import klayout.db as pya\n",
    "from pya import Box, Point, Polygon, Text, Trans, LayerInfo, \\\n",
    "    PCellDeclarationHelper, DPoint, DPath, Path, ShapeProcessor, \\\n",
    "    Library, CellInstArray\n",
    "\n",
    "#register and load siepic_tools\n",
    "sys.path.append(\"C://users/root/Documents/GitHub/SiEPIC-Tools/klayout_dot_config/python/\")\n",
    "import siepic_tools\n",
    "\n",
    "#load tech layout file\n",
    "from zeropdk import Tech\n",
    "\n",
    "#technology data folder\n",
    "tech_path = r\"C:\\Users\\root\\Documents\\GitHub\\SiEPIC-Tools\\klayout_dot_config\\tech\\GSiP\"\n",
    "lib = Tech.load_from_xml(tech_path+r\"\\klayout_Layers_GSiP.lyp\")\n",
    "\n",
    "#import library pcells\n",
    "sys.path.append(tech_path+r\"\\pymacros\")\n",
    "from GSiP_Library import *\n",
    "GSiP()\n",
    "\n",
    "from SiEPIC.utils import arc_xy\n",
    "\n",
    "print(\"done importing libraries\")"
   ]
  },
  {
   "cell_type": "code",
   "execution_count": 19,
   "metadata": {},
   "outputs": [],
   "source": [
    "import pya"
   ]
  },
  {
   "cell_type": "code",
   "execution_count": 2,
   "metadata": {},
   "outputs": [],
   "source": [
    "#create layout\n",
    "layout = pya.Layout()\n",
    "dbu = layout.dbu = 0.001\n",
    "TOP = layout.create_cell(\"TOP\")"
   ]
  },
  {
   "cell_type": "code",
   "execution_count": 3,
   "metadata": {},
   "outputs": [
    {
     "data": {
      "text/plain": [
       "<klayout.dbcore.Shape at 0x205ea0ea138>"
      ]
     },
     "execution_count": 3,
     "metadata": {},
     "output_type": "execute_result"
    }
   ],
   "source": [
    "pol = \"te\"\n",
    "wg_width = 0.5\n",
    "x = 0\n",
    "r = 3\n",
    "g = 0.1\n",
    "\n",
    "# Layer mapping:\n",
    "LayerSiN = layout.layer(lib.layers['Si'])\n",
    "fpLayerN = TOP.layout().layer(lib.layers['FloorPlan'])\n",
    "TextLayerN = TOP.layout().layer(lib.layers['Text'])\n",
    "\n",
    "# Draw the floor plan\n",
    "TOP.shapes(fpLayerN).insert(Box(-610/dbu,-405/dbu, 610/dbu, 405/dbu))"
   ]
  },
  {
   "cell_type": "code",
   "execution_count": 4,
   "metadata": {},
   "outputs": [],
   "source": [
    "# Create a sub-cell for our Ring resonator layout\n",
    "if pol == 'te':\n",
    "    t = Trans(Trans.R0, 40 / dbu, 12 / dbu)\n",
    "else:\n",
    "    t = Trans(Trans.R180, 560 / dbu, 393 / dbu)"
   ]
  },
  {
   "cell_type": "code",
   "execution_count": 10,
   "metadata": {},
   "outputs": [],
   "source": [
    "layout.prune_subcells(TOP.cell_index(), 10)"
   ]
  },
  {
   "cell_type": "code",
   "execution_count": 14,
   "metadata": {},
   "outputs": [
    {
     "data": {
      "text/plain": [
       "<klayout.dbcore.Instance at 0x205ea1300c0>"
      ]
     },
     "execution_count": 14,
     "metadata": {},
     "output_type": "execute_result"
    }
   ],
   "source": [
    "# Grating couplers, Ports 1, 2, 3, 4 (top-down):\n",
    "GC_imported = layout.create_cell(\"Grating_Coupler_13deg_TE_1550_Oxide\", \"GSiP\").cell_index()\n",
    "\n",
    "gc_length = 41\n",
    "GC_pitch = 127\n",
    "\n",
    "t = Trans(Trans.R0, 0, 0)\n",
    "TOP.insert(CellInstArray(GC_imported, t, DPoint(0,GC_pitch).to_itype(dbu), Point(0,0), 2, 1))\n"
   ]
  },
  {
   "cell_type": "code",
   "execution_count": 11,
   "metadata": {},
   "outputs": [
    {
     "name": "stdout",
     "output_type": "stream",
     "text": [
      "(0,0;300,0;300,127;0,127) w=0 bx=0 ex=0 r=false\n",
      "(0,0;300000,0;300000,127000;0,127000) w=0 bx=0 ex=0 r=false\n"
     ]
    }
   ],
   "source": [
    "#draw waveguide connecting grating couplers\n",
    "path_pts = [Point(each[0], each[1]) for each in [[0,0], [300,0], [300, 127], [0,127]]]\n",
    "path = Path()\n",
    "path.points = path_pts\n",
    "\n",
    "print(path)\n",
    "\n",
    "Dpath = path.to_dtype(1000)\n",
    "print(Dpath)"
   ]
  },
  {
   "cell_type": "code",
   "execution_count": 12,
   "metadata": {},
   "outputs": [
    {
     "data": {
      "text/plain": [
       "<klayout.dbcore.Cell at 0x205ea0ea2a0>"
      ]
     },
     "execution_count": 12,
     "metadata": {},
     "output_type": "execute_result"
    }
   ],
   "source": [
    "wg_imported = TOP.layout().create_cell(\"Waveguide\", \"GSiP\", {\"path\":path, \"radius\":10, \"width\":0.5})\n",
    "t = Trans(Trans.R0, 0, 0)\n",
    "TOP.insert_cell(wg_imported, Point(0,0), 0)\n",
    "\n",
    "#, DPoint(0,0).to_itype(dbu), Point(0,0), 1, 1))\n"
   ]
  },
  {
   "cell_type": "code",
   "execution_count": 15,
   "metadata": {},
   "outputs": [],
   "source": [
    "layout.write(\"GSiP_loopback.gds\")"
   ]
  },
  {
   "cell_type": "code",
   "execution_count": null,
   "metadata": {},
   "outputs": [],
   "source": [
    "dir(TOP)"
   ]
  },
  {
   "cell_type": "code",
   "execution_count": null,
   "metadata": {},
   "outputs": [],
   "source": [
    "dir(wg_imported), wg_imported.find_pins()"
   ]
  }
 ],
 "metadata": {
  "kernelspec": {
   "display_name": "siepic_EPDA",
   "language": "python",
   "name": "siepic_epda"
  },
  "language_info": {
   "codemirror_mode": {
    "name": "ipython",
    "version": 3
   },
   "file_extension": ".py",
   "mimetype": "text/x-python",
   "name": "python",
   "nbconvert_exporter": "python",
   "pygments_lexer": "ipython3",
   "version": "3.7.3"
  }
 },
 "nbformat": 4,
 "nbformat_minor": 4
}
