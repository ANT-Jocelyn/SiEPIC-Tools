{
 "cells": [
  {
   "cell_type": "code",
   "execution_count": 2,
   "metadata": {},
   "outputs": [],
   "source": [
    "\n",
    "import os, sys\n",
    "path = \"/Applications/Lumerical/INTERCONNECT/INTERCONNECT.app/Contents/API/Python\"\n",
    "sys.path.append(path)\n",
    "os.environ['PATH'] += ':/Applications/Lumerical/INTERCONNECT/INTERCONNECT.app/Contents/MacOS' \n",
    "os.environ['PATH'] += ':/Applications/Lumerical/INTERCONNECT/INTERCONNECT.app/Contents/API/Python'\n",
    "os.environ['PATH'] += ':/Applications/Lumerical/INTERCONNECT/INTERCONNECT.app/Contents/API/Matlab'\n",
    "import lumapi\n",
    "        "
   ]
  },
  {
   "cell_type": "code",
   "execution_count": 3,
   "metadata": {},
   "outputs": [
    {
     "ename": "LumApiError",
     "evalue": "'Failed to launch application'",
     "output_type": "error",
     "traceback": [
      "\u001b[0;31m---------------------------------------------------------------------------\u001b[0m",
      "\u001b[0;31mLumApiError\u001b[0m                               Traceback (most recent call last)",
      "\u001b[0;32m<ipython-input-3-04a27b15ccf9>\u001b[0m in \u001b[0;36m<module>\u001b[0;34m()\u001b[0m\n\u001b[0;32m----> 1\u001b[0;31m \u001b[0mINTC\u001b[0m \u001b[0;34m=\u001b[0m \u001b[0mlumapi\u001b[0m\u001b[0;34m.\u001b[0m\u001b[0mopen\u001b[0m\u001b[0;34m(\u001b[0m\u001b[0;34m'interconnect'\u001b[0m\u001b[0;34m)\u001b[0m\u001b[0;34m\u001b[0m\u001b[0m\n\u001b[0m\u001b[1;32m      2\u001b[0m \u001b[0mlumapi\u001b[0m\u001b[0;34m.\u001b[0m\u001b[0mevalScript\u001b[0m\u001b[0;34m(\u001b[0m\u001b[0m_globals\u001b[0m\u001b[0;34m.\u001b[0m\u001b[0mINTC\u001b[0m\u001b[0;34m,\u001b[0m \u001b[0;34m\"?'KLayout integration test.\\n';\\n\"\u001b[0m\u001b[0;34m)\u001b[0m\u001b[0;34m\u001b[0m\u001b[0m\n",
      "\u001b[0;32m/Applications/Lumerical/INTERCONNECT/INTERCONNECT.app/Contents/API/Python/lumapi.py\u001b[0m in \u001b[0;36mopen\u001b[0;34m(product)\u001b[0m\n\u001b[1;32m    125\u001b[0m     \u001b[0mh\u001b[0m \u001b[0;34m=\u001b[0m \u001b[0miapi\u001b[0m\u001b[0;34m.\u001b[0m\u001b[0mappOpen\u001b[0m\u001b[0;34m(\u001b[0m\u001b[0murl\u001b[0m\u001b[0;34m,\u001b[0m\u001b[0mk\u001b[0m\u001b[0;34m)\u001b[0m\u001b[0;34m\u001b[0m\u001b[0m\n\u001b[1;32m    126\u001b[0m     \u001b[0;32mif\u001b[0m \u001b[0;32mnot\u001b[0m \u001b[0miapi\u001b[0m\u001b[0;34m.\u001b[0m\u001b[0mappOpened\u001b[0m\u001b[0;34m(\u001b[0m\u001b[0mh\u001b[0m\u001b[0;34m)\u001b[0m\u001b[0;34m:\u001b[0m\u001b[0;34m\u001b[0m\u001b[0m\n\u001b[0;32m--> 127\u001b[0;31m         \u001b[0;32mraise\u001b[0m \u001b[0mLumApiError\u001b[0m\u001b[0;34m(\u001b[0m\u001b[0;34m\"Failed to launch application\"\u001b[0m\u001b[0;34m)\u001b[0m\u001b[0;34m\u001b[0m\u001b[0m\n\u001b[0m\u001b[1;32m    128\u001b[0m \u001b[0;34m\u001b[0m\u001b[0m\n\u001b[1;32m    129\u001b[0m     \u001b[0;32mreturn\u001b[0m \u001b[0mh\u001b[0m\u001b[0;34m\u001b[0m\u001b[0m\n",
      "\u001b[0;31mLumApiError\u001b[0m: 'Failed to launch application'"
     ]
    }
   ],
   "source": [
    "INTC = lumapi.open('interconnect')\n",
    "lumapi.evalScript(_globals.INTC, \"?'KLayout integration test.\\n';\\n\")\n"
   ]
  }
 ],
 "metadata": {
  "kernelspec": {
   "display_name": "Python 3",
   "language": "python",
   "name": "python3"
  },
  "language_info": {
   "codemirror_mode": {
    "name": "ipython",
    "version": 3
   },
   "file_extension": ".py",
   "mimetype": "text/x-python",
   "name": "python",
   "nbconvert_exporter": "python",
   "pygments_lexer": "ipython3",
   "version": "3.6.4"
  }
 },
 "nbformat": 4,
 "nbformat_minor": 2
}
